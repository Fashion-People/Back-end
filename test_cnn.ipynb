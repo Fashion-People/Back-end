{
 "cells": [
  {
   "cell_type": "code",
   "execution_count": 2,
   "id": "e9b84903",
   "metadata": {},
   "outputs": [
    {
     "name": "stdout",
     "output_type": "stream",
     "text": [
      "Downloading http://yann.lecun.com/exdb/mnist/train-images-idx3-ubyte.gz\n",
      "Downloading http://yann.lecun.com/exdb/mnist/train-images-idx3-ubyte.gz to ./data\\MNIST\\raw\\train-images-idx3-ubyte.gz\n"
     ]
    },
    {
     "name": "stderr",
     "output_type": "stream",
     "text": [
      "100%|███████████████████████████████████████████████████████████████████| 9912422/9912422 [00:03<00:00, 3098717.39it/s]\n"
     ]
    },
    {
     "name": "stdout",
     "output_type": "stream",
     "text": [
      "Extracting ./data\\MNIST\\raw\\train-images-idx3-ubyte.gz to ./data\\MNIST\\raw\n",
      "\n",
      "Downloading http://yann.lecun.com/exdb/mnist/train-labels-idx1-ubyte.gz\n",
      "Downloading http://yann.lecun.com/exdb/mnist/train-labels-idx1-ubyte.gz to ./data\\MNIST\\raw\\train-labels-idx1-ubyte.gz\n"
     ]
    },
    {
     "name": "stderr",
     "output_type": "stream",
     "text": [
      "100%|██████████████████████████████████████████████████████████████████████| 28881/28881 [00:00<00:00, 28563002.55it/s]\n"
     ]
    },
    {
     "name": "stdout",
     "output_type": "stream",
     "text": [
      "Extracting ./data\\MNIST\\raw\\train-labels-idx1-ubyte.gz to ./data\\MNIST\\raw\n",
      "\n",
      "Downloading http://yann.lecun.com/exdb/mnist/t10k-images-idx3-ubyte.gz\n",
      "Downloading http://yann.lecun.com/exdb/mnist/t10k-images-idx3-ubyte.gz to ./data\\MNIST\\raw\\t10k-images-idx3-ubyte.gz\n"
     ]
    },
    {
     "name": "stderr",
     "output_type": "stream",
     "text": [
      "100%|███████████████████████████████████████████████████████████████████| 1648877/1648877 [00:00<00:00, 1662421.54it/s]\n"
     ]
    },
    {
     "name": "stdout",
     "output_type": "stream",
     "text": [
      "Extracting ./data\\MNIST\\raw\\t10k-images-idx3-ubyte.gz to ./data\\MNIST\\raw\n",
      "\n",
      "Downloading http://yann.lecun.com/exdb/mnist/t10k-labels-idx1-ubyte.gz\n",
      "Downloading http://yann.lecun.com/exdb/mnist/t10k-labels-idx1-ubyte.gz to ./data\\MNIST\\raw\\t10k-labels-idx1-ubyte.gz\n"
     ]
    },
    {
     "name": "stderr",
     "output_type": "stream",
     "text": [
      "100%|██████████████████████████████████████████████████████████████████████████████████████| 4542/4542 [00:00<?, ?it/s]\n"
     ]
    },
    {
     "name": "stdout",
     "output_type": "stream",
     "text": [
      "Extracting ./data\\MNIST\\raw\\t10k-labels-idx1-ubyte.gz to ./data\\MNIST\\raw\n",
      "\n",
      "Epoch 1, Batch 100, Loss: 0.504\n",
      "Epoch 1, Batch 200, Loss: 0.163\n",
      "Epoch 1, Batch 300, Loss: 0.095\n",
      "Epoch 1, Batch 400, Loss: 0.093\n",
      "Epoch 1, Batch 500, Loss: 0.088\n",
      "Epoch 1, Batch 600, Loss: 0.072\n",
      "Epoch 1, Batch 700, Loss: 0.069\n",
      "Epoch 1, Batch 800, Loss: 0.063\n",
      "Epoch 1, Batch 900, Loss: 0.053\n",
      "Epoch 2, Batch 100, Loss: 0.042\n",
      "Epoch 2, Batch 200, Loss: 0.043\n",
      "Epoch 2, Batch 300, Loss: 0.031\n",
      "Epoch 2, Batch 400, Loss: 0.057\n",
      "Epoch 2, Batch 500, Loss: 0.037\n",
      "Epoch 2, Batch 600, Loss: 0.043\n",
      "Epoch 2, Batch 700, Loss: 0.036\n",
      "Epoch 2, Batch 800, Loss: 0.041\n",
      "Epoch 2, Batch 900, Loss: 0.040\n",
      "Epoch 3, Batch 100, Loss: 0.025\n",
      "Epoch 3, Batch 200, Loss: 0.024\n",
      "Epoch 3, Batch 300, Loss: 0.020\n",
      "Epoch 3, Batch 400, Loss: 0.023\n",
      "Epoch 3, Batch 500, Loss: 0.021\n",
      "Epoch 3, Batch 600, Loss: 0.025\n",
      "Epoch 3, Batch 700, Loss: 0.032\n",
      "Epoch 3, Batch 800, Loss: 0.030\n",
      "Epoch 3, Batch 900, Loss: 0.028\n",
      "Epoch 4, Batch 100, Loss: 0.013\n",
      "Epoch 4, Batch 200, Loss: 0.014\n",
      "Epoch 4, Batch 300, Loss: 0.016\n",
      "Epoch 4, Batch 400, Loss: 0.013\n",
      "Epoch 4, Batch 500, Loss: 0.025\n",
      "Epoch 4, Batch 600, Loss: 0.017\n",
      "Epoch 4, Batch 700, Loss: 0.019\n",
      "Epoch 4, Batch 800, Loss: 0.020\n",
      "Epoch 4, Batch 900, Loss: 0.014\n",
      "Epoch 5, Batch 100, Loss: 0.012\n",
      "Epoch 5, Batch 200, Loss: 0.010\n",
      "Epoch 5, Batch 300, Loss: 0.009\n",
      "Epoch 5, Batch 400, Loss: 0.014\n",
      "Epoch 5, Batch 500, Loss: 0.013\n",
      "Epoch 5, Batch 600, Loss: 0.012\n",
      "Epoch 5, Batch 700, Loss: 0.011\n",
      "Epoch 5, Batch 800, Loss: 0.016\n",
      "Epoch 5, Batch 900, Loss: 0.013\n"
     ]
    }
   ],
   "source": [
    "import torch\n",
    "import torch.nn as nn\n",
    "import torchvision\n",
    "from torchvision import transforms\n",
    "from torch.utils.data import DataLoader\n",
    "\n",
    "# 간단한 CNN 모델 정의\n",
    "class SimpleCNN(nn.Module):\n",
    "    def __init__(self):\n",
    "        super(SimpleCNN, self).__init__()\n",
    "        self.conv1 = nn.Conv2d(1, 32, 3, 1)\n",
    "        self.conv2 = nn.Conv2d(32, 64, 3, 1)\n",
    "        self.fc1 = nn.Linear(9216, 128)\n",
    "        self.fc2 = nn.Linear(128, 10)\n",
    "\n",
    "    def forward(self, x):\n",
    "        x = self.conv1(x)\n",
    "        x = nn.ReLU()(x)\n",
    "        x = self.conv2(x)\n",
    "        x = nn.ReLU()(x)\n",
    "        x = nn.MaxPool2d(2)(x)\n",
    "        x = torch.flatten(x, 1)\n",
    "        x = self.fc1(x)\n",
    "        x = nn.ReLU()(x)\n",
    "        x = self.fc2(x)\n",
    "        return x\n",
    "\n",
    "# MNIST 데이터셋 로드 및 전처리\n",
    "transform = transforms.Compose([transforms.ToTensor(), transforms.Normalize((0.5,), (0.5,))])\n",
    "train_dataset = torchvision.datasets.MNIST(root='./data', train=True, transform=transform, download=True)\n",
    "train_loader = DataLoader(train_dataset, batch_size=64, shuffle=True)\n",
    "\n",
    "# 모델 초기화\n",
    "model = SimpleCNN()\n",
    "\n",
    "# 손실 함수 및 최적화 기법 설정\n",
    "criterion = nn.CrossEntropyLoss()\n",
    "optimizer = torch.optim.Adam(model.parameters(), lr=0.001)\n",
    "\n",
    "# 모델 학습\n",
    "for epoch in range(5):\n",
    "    running_loss = 0.0\n",
    "    for i, data in enumerate(train_loader, 0):\n",
    "        inputs, labels = data\n",
    "        optimizer.zero_grad()\n",
    "        outputs = model(inputs)\n",
    "        loss = criterion(outputs, labels)\n",
    "        loss.backward()\n",
    "        optimizer.step()\n",
    "        running_loss += loss.item()\n",
    "        if i % 100 == 99:\n",
    "            print(f'Epoch {epoch + 1}, Batch {i + 1}, Loss: {running_loss / 100:.3f}')\n",
    "            running_loss = 0.0\n",
    "\n",
    "# 학습된 모델 저장\n",
    "torch.save(model.state_dict(), 'mnist_cnn_model.pt')"
   ]
  },
  {
   "cell_type": "code",
   "execution_count": null,
   "id": "748ee1c8",
   "metadata": {},
   "outputs": [],
   "source": []
  }
 ],
 "metadata": {
  "kernelspec": {
   "display_name": "Python 3 (ipykernel)",
   "language": "python",
   "name": "python3"
  },
  "language_info": {
   "codemirror_mode": {
    "name": "ipython",
    "version": 3
   },
   "file_extension": ".py",
   "mimetype": "text/x-python",
   "name": "python",
   "nbconvert_exporter": "python",
   "pygments_lexer": "ipython3",
   "version": "3.11.4"
  }
 },
 "nbformat": 4,
 "nbformat_minor": 5
}
